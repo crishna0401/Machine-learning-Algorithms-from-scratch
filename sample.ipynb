{
 "cells": [
  {
   "cell_type": "code",
   "execution_count": 16,
   "metadata": {},
   "outputs": [
    {
     "name": "stdout",
     "output_type": "stream",
     "text": [
      "X_train shape: (1079, 3000)\n",
      "X_test shape: (717, 3000)\n"
     ]
    }
   ],
   "source": [
    "from sklearn.datasets import fetch_20newsgroups\n",
    "from sklearn.feature_extraction.text import TfidfVectorizer\n",
    "import numpy as np\n",
    "import tensorflow as tf\n",
    "from keras.callbacks import ModelCheckpoint,LambdaCallback\n",
    "from keras.models import Sequential\n",
    "from keras.layers import Dense, Activation, Dropout\n",
    "import keras.backend as K\n",
    "\n",
    "cats=['alt.atheism','soc.religion.christian']\n",
    "newsgroups_train = fetch_20newsgroups(subset='train',categories=cats)\n",
    "newsgroups_test = fetch_20newsgroups(subset='test',categories=cats)\n",
    "class_names = newsgroups_train.target_names\n",
    "y_train = newsgroups_train.target\n",
    "y_test = newsgroups_test.target\n",
    "\n",
    "vectorizer = TfidfVectorizer(stop_words='english',lowercase=True,max_features=3000,max_df=10,ngram_range=(1,2),analyzer='word')\n",
    "X_train = vectorizer.fit_transform(newsgroups_train.data)\n",
    "X_test = vectorizer.transform(newsgroups_test.data)\n",
    "X_train=X_train.toarray()\n",
    "X_test=X_test.toarray()\n",
    "\n",
    "X_train = X_train.astype(np.float32)\n",
    "y_train = y_train.astype(np.float32)\n",
    "\n",
    "print(\"X_train shape:\", X_train.shape)\n",
    "print(\"X_test shape:\", X_test.shape)"
   ]
  },
  {
   "cell_type": "code",
   "execution_count": 17,
   "metadata": {},
   "outputs": [],
   "source": [
    "from torch import nn\n",
    "from torch.nn import functional as F\n",
    "from torch.utils.data import Dataset, DataLoader\n",
    "from torch.optim import Adam\n",
    "\n",
    "from torch import Tensor\n",
    "\n",
    "w1=[]\n",
    "w2=[]\n",
    "w3=[]\n",
    "\n",
    "class data(Dataset):\n",
    "    def __init__(self, data, labels):\n",
    "        self.data = data\n",
    "        self.labels = labels\n",
    "\n",
    "    def __getitem__(self, index):\n",
    "        return self.data[index], self.labels[index]\n",
    "\n",
    "    def __len__(self):\n",
    "        return self.data.shape[0]\n",
    "\n",
    "class my_model(nn.Module):\n",
    "    def __init__(self):\n",
    "        super(my_model, self).__init__()\n",
    "\n",
    "        self.l1 = nn.Linear(3000, 1000)\n",
    "        self.l2 = nn.Linear(1000, 500)\n",
    "        self.l3 = nn.Linear(500, 250)\n",
    "        self.l4 = nn.Linear(250, 1)\n",
    "\n",
    "    def forward(self, x):\n",
    "        x = F.relu(self.l1(x))\n",
    "        w1.append(x.tolist())\n",
    "        x = F.relu(self.l2(x))\n",
    "        w2.append(x.tolist())\n",
    "        x = F.relu(self.l3(x))\n",
    "        w3.append(x.tolist())\n",
    "        x = F.sigmoid(self.l4(x))\n",
    "        return x.flatten()"
   ]
  },
  {
   "cell_type": "code",
   "execution_count": 18,
   "metadata": {},
   "outputs": [
    {
     "name": "stderr",
     "output_type": "stream",
     "text": [
      "c:\\Users\\91967\\Anaconda3\\lib\\site-packages\\torch\\nn\\functional.py:1944: UserWarning: nn.functional.sigmoid is deprecated. Use torch.sigmoid instead.\n",
      "  warnings.warn(\"nn.functional.sigmoid is deprecated. Use torch.sigmoid instead.\")\n"
     ]
    }
   ],
   "source": [
    "train_data = data(X_train, y_train)\n",
    "train_loader = DataLoader(train_data, 1, True)\n",
    "model = my_model()\n",
    "loss_fn = nn.BCELoss()\n",
    "optim = Adam(model.parameters(), 0.001)\n",
    "epochs = 1\n",
    "\n",
    "for epoch in range(epochs):\n",
    "    for i, dat in enumerate(train_loader):\n",
    "        inp, labs = dat\n",
    "        optim.zero_grad()\n",
    "        outs = model(inp)\n",
    "        loss = loss_fn(outs, labs)\n",
    "        loss.backward()\n",
    "        optim.step() "
   ]
  },
  {
   "cell_type": "code",
   "execution_count": 19,
   "metadata": {},
   "outputs": [
    {
     "data": {
      "text/plain": [
       "(1000, 500, 250)"
      ]
     },
     "execution_count": 19,
     "metadata": {},
     "output_type": "execute_result"
    }
   ],
   "source": [
    "len(w1[0][0]),len(w2[0][0]),len(w3[0][0])"
   ]
  },
  {
   "cell_type": "code",
   "execution_count": 22,
   "metadata": {},
   "outputs": [
    {
     "data": {
      "text/plain": [
       "1"
      ]
     },
     "execution_count": 22,
     "metadata": {},
     "output_type": "execute_result"
    }
   ],
   "source": [
    "len(w1[0])"
   ]
  },
  {
   "cell_type": "code",
   "execution_count": 20,
   "metadata": {},
   "outputs": [
    {
     "data": {
      "text/plain": [
       "(1079, 1079, 1079)"
      ]
     },
     "execution_count": 20,
     "metadata": {},
     "output_type": "execute_result"
    }
   ],
   "source": [
    "len(w1),len(w2),len(w3)"
   ]
  },
  {
   "cell_type": "code",
   "execution_count": 27,
   "metadata": {},
   "outputs": [],
   "source": [
    "layer1 = np.zeros((1000,1079))\n",
    "for i in range(1000):\n",
    "    for j in range(1079):\n",
    "        layer1[i][j]=w1[j][0][i]\n",
    "\n",
    "layer2 = np.zeros((500,1079))\n",
    "for i in range(500):\n",
    "    for j in range(1079):\n",
    "        layer2[i][j]=w2[j][0][i]\n",
    "\n",
    "layer3 = np.zeros((250,1079))\n",
    "for i in range(250):\n",
    "    for j in range(1079):\n",
    "        layer3[i][j]=w3[j][0][i]"
   ]
  },
  {
   "cell_type": "code",
   "execution_count": null,
   "metadata": {},
   "outputs": [],
   "source": []
  }
 ],
 "metadata": {
  "interpreter": {
   "hash": "37a1b2a0d3f6535539b64990c019a8c3ab0381ac058d1671c3e96d4d3071a7b6"
  },
  "kernelspec": {
   "display_name": "Python 3.8.8 ('base')",
   "language": "python",
   "name": "python3"
  },
  "language_info": {
   "codemirror_mode": {
    "name": "ipython",
    "version": 3
   },
   "file_extension": ".py",
   "mimetype": "text/x-python",
   "name": "python",
   "nbconvert_exporter": "python",
   "pygments_lexer": "ipython3",
   "version": "3.8.8"
  },
  "orig_nbformat": 4
 },
 "nbformat": 4,
 "nbformat_minor": 2
}
